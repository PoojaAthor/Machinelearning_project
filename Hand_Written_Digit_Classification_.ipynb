{
 "cells": [
  {
   "cell_type": "code",
   "execution_count": null,
   "metadata": {
    "id": "uIkU8yrtVFEv"
   },
   "outputs": [],
   "source": [
    "# imHandwritten Digit Classification"
   ]
  },
  {
   "cell_type": "code",
   "execution_count": null,
   "metadata": {
    "id": "m8-4SFoebRXd"
   },
   "outputs": [],
   "source": [
    "from keras.datasets import mnist"
   ]
  },
  {
   "cell_type": "code",
   "execution_count": null,
   "metadata": {
    "id": "-cO4BKAIbXKB"
   },
   "outputs": [],
   "source": [
    "(xtrain,ytrain),(xtest,ytest)=mnist.load_data()"
   ]
  },
  {
   "cell_type": "code",
   "execution_count": null,
   "metadata": {
    "id": "YJzOfkohbf6E"
   },
   "outputs": [],
   "source": [
    "xtrain.shape         # total 6000 images of 28*28"
   ]
  },
  {
   "cell_type": "code",
   "execution_count": null,
   "metadata": {
    "id": "SL79UK--bl0x"
   },
   "outputs": [],
   "source": [
    "import matplotlib.pyplot as plt"
   ]
  },
  {
   "cell_type": "code",
   "execution_count": null,
   "metadata": {
    "id": "RNHR1GITbp61"
   },
   "outputs": [],
   "source": [
    "plt.imshow(xtrain[0],cmap='gray')\n",
    "plt.show()"
   ]
  },
  {
   "cell_type": "code",
   "execution_count": null,
   "metadata": {
    "id": "DtVjST9Nb1W3"
   },
   "outputs": [],
   "source": [
    "plt.imshow(xtrain[1],cmap='gray')\n",
    "plt.show()"
   ]
  },
  {
   "cell_type": "code",
   "execution_count": null,
   "metadata": {
    "id": "UPkOd11Yb7GE"
   },
   "outputs": [],
   "source": [
    "plt.imshow(xtrain[4],cmap='gray')\n",
    "plt.show()"
   ]
  },
  {
   "cell_type": "code",
   "execution_count": null,
   "metadata": {
    "id": "FGsr5IFCb-5i"
   },
   "outputs": [],
   "source": [
    "plt.imshow(xtrain[10],cmap='gray')\n",
    "plt.show()"
   ]
  },
  {
   "cell_type": "code",
   "execution_count": null,
   "metadata": {
    "id": "tfOqnL6rcAc3"
   },
   "outputs": [],
   "source": [
    "import seaborn as sns"
   ]
  },
  {
   "cell_type": "code",
   "execution_count": null,
   "metadata": {
    "id": "CZpHKSl-cO5X"
   },
   "outputs": [],
   "source": [
    "plt.figure(figsize=(15,15))\n",
    "sns.heatmap(xtrain[0], annot=True ,fmt='d')\n",
    "plt.show()"
   ]
  },
  {
   "cell_type": "code",
   "execution_count": null,
   "metadata": {
    "id": "jy8ekdCDccbk"
   },
   "outputs": [],
   "source": [
    "# view first 9 imagesfrom train data"
   ]
  },
  {
   "cell_type": "code",
   "execution_count": null,
   "metadata": {
    "id": "jnYohaX9cw8J"
   },
   "outputs": [],
   "source": [
    "plt.figure(figsize=(10,10))\n",
    "for i in range(9):\n",
    "  plt.subplot(3,3,i+1)\n",
    "  plt.imshow(xtrain[i],cmap='gray')\n",
    "  plt.title(f'Number : {ytrain[i]}')"
   ]
  },
  {
   "cell_type": "code",
   "execution_count": null,
   "metadata": {
    "id": "mHTkPXLsdRPZ"
   },
   "outputs": [],
   "source": [
    "# preprocessing the data"
   ]
  },
  {
   "cell_type": "code",
   "execution_count": null,
   "metadata": {
    "id": "1nmUDpAid3Pv"
   },
   "outputs": [],
   "source": [
    "## pixel values are between 0-255 ,so divide xtrain and xtest by 255 to scale it in range 0-1"
   ]
  },
  {
   "cell_type": "code",
   "execution_count": null,
   "metadata": {
    "id": "Us6JIG56eFck"
   },
   "outputs": [],
   "source": [
    "xtrain_scl=xtrain.astype('float32')/255\n",
    "xtest_scl=xtest.astype('float32')/255"
   ]
  },
  {
   "cell_type": "code",
   "execution_count": null,
   "metadata": {
    "id": "e0S4wZBIeSLJ"
   },
   "outputs": [],
   "source": [
    "# check how many unique vlues are in output training data"
   ]
  },
  {
   "cell_type": "code",
   "execution_count": null,
   "metadata": {
    "id": "RwTV3MQjeYg6"
   },
   "outputs": [],
   "source": [
    "import numpy as np"
   ]
  },
  {
   "cell_type": "code",
   "execution_count": null,
   "metadata": {
    "id": "29ZjJRL-eaEO"
   },
   "outputs": [],
   "source": [
    "np.unique(ytrain)"
   ]
  },
  {
   "cell_type": "code",
   "execution_count": null,
   "metadata": {
    "id": "2m4chjxYedle"
   },
   "outputs": [],
   "source": [
    "# for multiclass classification apply one hot encoding on y feature"
   ]
  },
  {
   "cell_type": "markdown",
   "metadata": {
    "id": "SlY7X77te1Yp"
   },
   "source": []
  },
  {
   "cell_type": "code",
   "execution_count": null,
   "metadata": {
    "id": "dqlosciTe41E"
   },
   "outputs": [],
   "source": [
    "from keras.utils import to_categorical\n",
    "ytrain_cat= to_categorical(ytrain)\n",
    "ytest_cat= to_categorical(ytest)"
   ]
  },
  {
   "cell_type": "code",
   "execution_count": null,
   "metadata": {
    "id": "cvU9zUqHfIhg"
   },
   "outputs": [],
   "source": [
    "ytrain_cat[0:3]"
   ]
  },
  {
   "cell_type": "code",
   "execution_count": null,
   "metadata": {
    "id": "H8VxXRuXfrV2"
   },
   "outputs": [],
   "source": [
    "ytrain[0:3]"
   ]
  },
  {
   "cell_type": "code",
   "execution_count": null,
   "metadata": {
    "id": "xxx-1oW2fwzO"
   },
   "outputs": [],
   "source": [
    "from keras.models import Sequential\n",
    "from keras.layers import Input,Convolution2D, MaxPool2D, Flatten,Dropout, Dense"
   ]
  },
  {
   "cell_type": "markdown",
   "metadata": {
    "id": "dAb0jgEYi3JC"
   },
   "source": []
  },
  {
   "cell_type": "code",
   "execution_count": null,
   "metadata": {
    "id": "yFGamJBHivyl"
   },
   "outputs": [],
   "source": [
    "# initialize the model\n",
    "model =Sequential()"
   ]
  },
  {
   "cell_type": "code",
   "execution_count": null,
   "metadata": {
    "id": "p6jzyHIei2g0"
   },
   "outputs": [],
   "source": [
    "# Add input layer\n",
    "model.add(Input(shape=(28,28,1)))\n"
   ]
  },
  {
   "cell_type": "code",
   "execution_count": null,
   "metadata": {
    "id": "SE3vp71xjBub"
   },
   "outputs": [],
   "source": [
    "\n",
    "# Add convolution layer 1\n",
    "model.add(Convolution2D(filters=32,activation='relu',kernel_size=(3,3)))\n",
    "\n",
    "# we don't have to worry about the values in filter matrix\n",
    "\n",
    "\n",
    "\n",
    "# Add maxpooling layer\n",
    "\n",
    "model.add(MaxPool2D(pool_size=(2,2)))\n",
    "\n",
    "#Add convolution layer2\n",
    "\n",
    "model.add(Convolution2D(filters=64,activation='relu',kernel_size=(3,3)))\n",
    "\n",
    "# Add Max Pooling layer2\n",
    "\n",
    "model.add(MaxPool2D(pool_size=(2,2 )))\n",
    "\n",
    "\n",
    "# Add a flatten layer\n",
    "\n",
    "model.add(Flatten())\n",
    "\n",
    "# Add dropout layer\n",
    "\n",
    "model.add(Dropout(0.5))\n",
    "\n",
    "# create a output layer\n",
    "model.add(Dense(units=ytrain_cat.shape[1],activation='softmax'))\n",
    "\n",
    "\n"
   ]
  },
  {
   "cell_type": "markdown",
   "metadata": {
    "id": "CtHNfey7jSWy"
   },
   "source": []
  },
  {
   "cell_type": "code",
   "execution_count": null,
   "metadata": {
    "id": "sVxSk8Ssnf5X"
   },
   "outputs": [],
   "source": [
    "# compile and fit the model"
   ]
  },
  {
   "cell_type": "code",
   "execution_count": null,
   "metadata": {
    "id": "0HKZvlBinjYg"
   },
   "outputs": [],
   "source": [
    "model.compile(optimizer='adam',loss='categorical_crossentropy',metrics=['accuracy'])\n"
   ]
  },
  {
   "cell_type": "code",
   "execution_count": 105,
   "metadata": {
    "colab": {
     "base_uri": "https://localhost:8080/"
    },
    "id": "ZKn6HxcknwSI",
    "outputId": "7c9956a4-a35a-49f3-e689-b1489f1f7c9f"
   },
   "outputs": [
    {
     "name": "stdout",
     "output_type": "stream",
     "text": [
      "Epoch 1/40\n",
      "1500/1500 [==============================] - 7s 4ms/step - loss: 0.6514 - accuracy: 0.8863 - val_loss: 0.0729 - val_accuracy: 0.9780\n",
      "Epoch 2/40\n",
      "1500/1500 [==============================] - 6s 4ms/step - loss: 0.1392 - accuracy: 0.9578 - val_loss: 0.0594 - val_accuracy: 0.9827\n",
      "Epoch 3/40\n",
      "1500/1500 [==============================] - 8s 5ms/step - loss: 0.1133 - accuracy: 0.9667 - val_loss: 0.0536 - val_accuracy: 0.9843\n",
      "Epoch 4/40\n",
      "1500/1500 [==============================] - 7s 5ms/step - loss: 0.1038 - accuracy: 0.9694 - val_loss: 0.0495 - val_accuracy: 0.9865\n",
      "Epoch 5/40\n",
      "1500/1500 [==============================] - 6s 4ms/step - loss: 0.0939 - accuracy: 0.9718 - val_loss: 0.0564 - val_accuracy: 0.9833\n",
      "Epoch 6/40\n",
      "1500/1500 [==============================] - 6s 4ms/step - loss: 0.0870 - accuracy: 0.9743 - val_loss: 0.0486 - val_accuracy: 0.9863\n",
      "Epoch 7/40\n",
      "1500/1500 [==============================] - 7s 5ms/step - loss: 0.0783 - accuracy: 0.9766 - val_loss: 0.0437 - val_accuracy: 0.9872\n",
      "Epoch 8/40\n",
      "1500/1500 [==============================] - 8s 5ms/step - loss: 0.0749 - accuracy: 0.9766 - val_loss: 0.0465 - val_accuracy: 0.9877\n",
      "Epoch 9/40\n",
      "1500/1500 [==============================] - 9s 6ms/step - loss: 0.0753 - accuracy: 0.9775 - val_loss: 0.0447 - val_accuracy: 0.9869\n",
      "Epoch 10/40\n",
      "1500/1500 [==============================] - 10s 7ms/step - loss: 0.0673 - accuracy: 0.9800 - val_loss: 0.0479 - val_accuracy: 0.9879\n",
      "Epoch 11/40\n",
      "1500/1500 [==============================] - 9s 6ms/step - loss: 0.0682 - accuracy: 0.9792 - val_loss: 0.0491 - val_accuracy: 0.9876\n",
      "Epoch 12/40\n",
      "1500/1500 [==============================] - 10s 6ms/step - loss: 0.0711 - accuracy: 0.9791 - val_loss: 0.0414 - val_accuracy: 0.9890\n",
      "Epoch 13/40\n",
      "1500/1500 [==============================] - 9s 6ms/step - loss: 0.0612 - accuracy: 0.9815 - val_loss: 0.0432 - val_accuracy: 0.9892\n",
      "Epoch 14/40\n",
      "1500/1500 [==============================] - 11s 7ms/step - loss: 0.0630 - accuracy: 0.9823 - val_loss: 0.0555 - val_accuracy: 0.9852\n",
      "Epoch 15/40\n",
      "1500/1500 [==============================] - 9s 6ms/step - loss: 0.0620 - accuracy: 0.9817 - val_loss: 0.0519 - val_accuracy: 0.9871\n",
      "Epoch 16/40\n",
      "1500/1500 [==============================] - 8s 5ms/step - loss: 0.0599 - accuracy: 0.9821 - val_loss: 0.0493 - val_accuracy: 0.9888\n",
      "Epoch 17/40\n",
      "1500/1500 [==============================] - 8s 5ms/step - loss: 0.0597 - accuracy: 0.9826 - val_loss: 0.0456 - val_accuracy: 0.9888\n",
      "Epoch 18/40\n",
      "1500/1500 [==============================] - 7s 5ms/step - loss: 0.0613 - accuracy: 0.9822 - val_loss: 0.0443 - val_accuracy: 0.9890\n",
      "Epoch 19/40\n",
      "1500/1500 [==============================] - 8s 5ms/step - loss: 0.0628 - accuracy: 0.9820 - val_loss: 0.0499 - val_accuracy: 0.9888\n",
      "Epoch 20/40\n",
      "1500/1500 [==============================] - 8s 5ms/step - loss: 0.0607 - accuracy: 0.9828 - val_loss: 0.0402 - val_accuracy: 0.9908\n",
      "Epoch 21/40\n",
      "1500/1500 [==============================] - 7s 5ms/step - loss: 0.0572 - accuracy: 0.9841 - val_loss: 0.0484 - val_accuracy: 0.9896\n",
      "Epoch 22/40\n",
      "1500/1500 [==============================] - 9s 6ms/step - loss: 0.0575 - accuracy: 0.9836 - val_loss: 0.0513 - val_accuracy: 0.9879\n",
      "Epoch 23/40\n",
      "1500/1500 [==============================] - 6s 4ms/step - loss: 0.0592 - accuracy: 0.9841 - val_loss: 0.0575 - val_accuracy: 0.9857\n",
      "Epoch 24/40\n",
      "1500/1500 [==============================] - 8s 6ms/step - loss: 0.0553 - accuracy: 0.9845 - val_loss: 0.0580 - val_accuracy: 0.9876\n",
      "Epoch 25/40\n",
      "1500/1500 [==============================] - 9s 6ms/step - loss: 0.0582 - accuracy: 0.9837 - val_loss: 0.0574 - val_accuracy: 0.9853\n",
      "Epoch 26/40\n",
      "1500/1500 [==============================] - 9s 6ms/step - loss: 0.0557 - accuracy: 0.9837 - val_loss: 0.0535 - val_accuracy: 0.9890\n",
      "Epoch 27/40\n",
      "1500/1500 [==============================] - 10s 7ms/step - loss: 0.0550 - accuracy: 0.9846 - val_loss: 0.0518 - val_accuracy: 0.9895\n",
      "Epoch 28/40\n",
      "1500/1500 [==============================] - 9s 6ms/step - loss: 0.0535 - accuracy: 0.9849 - val_loss: 0.0506 - val_accuracy: 0.9901\n",
      "Epoch 29/40\n",
      "1500/1500 [==============================] - 11s 7ms/step - loss: 0.0557 - accuracy: 0.9844 - val_loss: 0.0460 - val_accuracy: 0.9901\n",
      "Epoch 30/40\n",
      "1500/1500 [==============================] - 9s 6ms/step - loss: 0.0578 - accuracy: 0.9846 - val_loss: 0.0518 - val_accuracy: 0.9887\n",
      "Epoch 31/40\n",
      "1500/1500 [==============================] - 6s 4ms/step - loss: 0.0565 - accuracy: 0.9845 - val_loss: 0.0537 - val_accuracy: 0.9881\n",
      "Epoch 32/40\n",
      "1500/1500 [==============================] - 6s 4ms/step - loss: 0.0557 - accuracy: 0.9845 - val_loss: 0.0595 - val_accuracy: 0.9873\n",
      "Epoch 33/40\n",
      "1500/1500 [==============================] - 6s 4ms/step - loss: 0.0570 - accuracy: 0.9850 - val_loss: 0.0485 - val_accuracy: 0.9885\n",
      "Epoch 34/40\n",
      "1500/1500 [==============================] - 5s 4ms/step - loss: 0.0531 - accuracy: 0.9846 - val_loss: 0.0577 - val_accuracy: 0.9894\n",
      "Epoch 35/40\n",
      "1500/1500 [==============================] - 7s 4ms/step - loss: 0.0516 - accuracy: 0.9857 - val_loss: 0.0464 - val_accuracy: 0.9902\n",
      "Epoch 36/40\n",
      "1500/1500 [==============================] - 5s 4ms/step - loss: 0.0535 - accuracy: 0.9850 - val_loss: 0.0581 - val_accuracy: 0.9888\n",
      "Epoch 37/40\n",
      "1500/1500 [==============================] - 7s 4ms/step - loss: 0.0531 - accuracy: 0.9855 - val_loss: 0.0472 - val_accuracy: 0.9906\n",
      "Epoch 38/40\n",
      "1500/1500 [==============================] - 6s 4ms/step - loss: 0.0584 - accuracy: 0.9851 - val_loss: 0.0587 - val_accuracy: 0.9892\n",
      "Epoch 39/40\n",
      "1500/1500 [==============================] - 7s 4ms/step - loss: 0.0509 - accuracy: 0.9864 - val_loss: 0.0643 - val_accuracy: 0.9886\n",
      "Epoch 40/40\n",
      "1500/1500 [==============================] - 6s 4ms/step - loss: 0.0578 - accuracy: 0.9847 - val_loss: 0.0504 - val_accuracy: 0.9900\n"
     ]
    }
   ],
   "source": [
    "hist=model.fit(xtrain,ytrain_cat,validation_split=0.2,epochs=15)"
   ]
  },
  {
   "cell_type": "code",
   "execution_count": 106,
   "metadata": {
    "id": "l45YKnKTn73f"
   },
   "outputs": [],
   "source": [
    "# plt learning curve"
   ]
  },
  {
   "cell_type": "code",
   "execution_count": 107,
   "metadata": {
    "colab": {
     "base_uri": "https://localhost:8080/",
     "height": 487
    },
    "id": "9-QKCl8IpF3e",
    "outputId": "4d96e7a3-fe92-42db-ea20-dcc3d54e5c5c"
   },
   "outputs": [
    {
     "data": {
      "image/png": "[encoded data removed]",
      "text/plain": [
       "<Figure size 1000x500 with 1 Axes>"
      ]
     },
     "metadata": {},
     "output_type": "display_data"
    }
   ],
   "source": [
    "plt.figure(figsize=(10,5))\n",
    "plt.plot(hist.history['loss'],label='Train loss')\n",
    "plt.plot(hist.history['val_loss'],label='Validation Loss')\n",
    "plt.xlabel('Epochs')\n",
    "plt.ylabel('Categorical Crossentropy')\n",
    "plt.title('Learning Curve')\n",
    "plt.show()"
   ]
  },
  {
   "cell_type": "code",
   "execution_count": 108,
   "metadata": {
    "id": "JIiGkoTxpvri"
   },
   "outputs": [],
   "source": [
    "# model Evlutaion"
   ]
  },
  {
   "cell_type": "code",
   "execution_count": 118,
   "metadata": {
    "colab": {
     "base_uri": "https://localhost:8080/"
    },
    "id": "5oyqyXebq6u3",
    "outputId": "3ccda577-aa71-4521-a87b-fde5df67c66d"
   },
   "outputs": [
    {
     "name": "stdout",
     "output_type": "stream",
     "text": [
      "1875/1875 [==============================] - 7s 4ms/step - loss: 0.0167 - accuracy: 0.9958\n"
     ]
    },
    {
     "data": {
      "text/plain": [
       "[0.0167160015553236, 0.9957833290100098]"
      ]
     },
     "execution_count": 118,
     "metadata": {},
     "output_type": "execute_result"
    }
   ],
   "source": [
    "model.evaluate(xtrain,ytrain_cat)\n"
   ]
  },
  {
   "cell_type": "code",
   "execution_count": 112,
   "metadata": {
    "id": "z_7U4znWrPjR"
   },
   "outputs": [],
   "source": [
    "# predict probalities for training and testing"
   ]
  },
  {
   "cell_type": "code",
   "execution_count": 113,
   "metadata": {
    "colab": {
     "base_uri": "https://localhost:8080/"
    },
    "id": "EOj8XwFkrV-x",
    "outputId": "6a0a6958-95d8-4a01-e728-4bad39af6c4e"
   },
   "outputs": [
    {
     "name": "stdout",
     "output_type": "stream",
     "text": [
      "1875/1875 [==============================] - 4s 2ms/step\n",
      "313/313 [==============================] - 1s 2ms/step\n"
     ]
    }
   ],
   "source": [
    "yprob_train=model.predict(xtrain)\n",
    "yprob_test=model.predict(xtest)\n"
   ]
  },
  {
   "cell_type": "code",
   "execution_count": 114,
   "metadata": {
    "colab": {
     "base_uri": "https://localhost:8080/"
    },
    "id": "Cty90aw-ry_u",
    "outputId": "cd8ec161-f4a2-4467-c9bf-7e9678892a29"
   },
   "outputs": [
    {
     "data": {
      "text/plain": [
       "array([[2.29646805e-16, 1.49730097e-17, 5.20010806e-15, 9.93711274e-06,\n",
       "        4.30709875e-21, 9.99990106e-01, 1.41244015e-16, 2.46550436e-12,\n",
       "        1.15902665e-08, 1.13562459e-09],\n",
       "       [1.00000000e+00, 1.16097360e-20, 1.99626999e-11, 3.61617695e-19,\n",
       "        1.44984764e-18, 1.04503972e-17, 2.97598995e-14, 6.50532729e-19,\n",
       "        1.81788026e-12, 1.52315834e-11],\n",
       "       [4.10023708e-23, 2.31739732e-11, 1.16070579e-16, 2.76058936e-18,\n",
       "        1.00000000e+00, 2.62947805e-15, 8.66176285e-19, 9.21073356e-11,\n",
       "        1.87681251e-13, 5.45116556e-11],\n",
       "       [7.91054201e-12, 9.99999404e-01, 1.64846664e-10, 3.65989765e-15,\n",
       "        3.25113547e-07, 2.65419495e-13, 1.03868075e-12, 5.49320234e-08,\n",
       "        2.80037227e-07, 2.72954576e-10],\n",
       "       [2.93945310e-18, 3.69230539e-14, 3.81486032e-12, 2.50093614e-15,\n",
       "        1.94285249e-07, 2.79055852e-16, 1.32485926e-19, 1.14909957e-10,\n",
       "        3.69386835e-05, 9.99962807e-01]], dtype=float32)"
      ]
     },
     "execution_count": 114,
     "metadata": {},
     "output_type": "execute_result"
    }
   ],
   "source": [
    "yprob_train[:5]"
   ]
  },
  {
   "cell_type": "code",
   "execution_count": 115,
   "metadata": {
    "id": "rW2ymL8Fr3bW"
   },
   "outputs": [],
   "source": [
    "# give final prediction"
   ]
  },
  {
   "cell_type": "code",
   "execution_count": 116,
   "metadata": {
    "id": "hQ8gWCtDsdlp"
   },
   "outputs": [],
   "source": [
    "ypred_train=np.argmax(yprob_train,axis=1)\n",
    "ypred_test=np.argmax(yprob_test,axis=1)"
   ]
  },
  {
   "cell_type": "code",
   "execution_count": 117,
   "metadata": {
    "colab": {
     "base_uri": "https://localhost:8080/",
     "height": 466
    },
    "id": "_5oxYMdvsteD",
    "outputId": "8ed4124a-19ac-4c1b-8b65-fd2c5ac51da5"
   },
   "outputs": [
    {
     "data": {
      "text/plain": [
       "<sklearn.metrics._plot.confusion_matrix.ConfusionMatrixDisplay at 0x7d83039a30d0>"
      ]
     },
     "execution_count": 117,
     "metadata": {},
     "output_type": "execute_result"
    },
    {
     "data": {
      "image/png": "[encoded data removed]",
      "text/plain": [
       "<Figure size 640x480 with 2 Axes>"
      ]
     },
     "metadata": {},
     "output_type": "display_data"
    }
   ],
   "source": [
    "from sklearn.metrics import confusion_matrix, ConfusionMatrixDisplay\n",
    "cf= confusion_matrix(ytest,ypred_test)\n",
    "cfd=ConfusionMatrixDisplay(cf)\n",
    "cfd.plot()"
   ]
  },
  {
   "cell_type": "code",
   "execution_count": 119,
   "metadata": {
    "id": "dQJZ5plLtLuK"
   },
   "outputs": [],
   "source": [
    "# notes 1 probability is high"
   ]
  },
  {
   "cell_type": "code",
   "execution_count": null,
   "metadata": {
    "id": "sS8w8fKlv-Iy"
   },
   "outputs": [],
   "source": []
  }
 ],
 "metadata": {
  "accelerator": "GPU",
  "colab": {
   "gpuType": "T4",
   "provenance": []
  },
  "kernelspec": {
   "display_name": "Python 3 (ipykernel)",
   "language": "python",
   "name": "python3"
  },
  "language_info": {
   "codemirror_mode": {
    "name": "ipython",
    "version": 3
   },
   "file_extension": ".py",
   "mimetype": "text/x-python",
   "name": "python",
   "nbconvert_exporter": "python",
   "pygments_lexer": "ipython3",
   "version": "3.11.4"
  }
 },
 "nbformat": 4,
 "nbformat_minor": 1
}
